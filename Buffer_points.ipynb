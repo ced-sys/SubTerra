{
  "nbformat": 4,
  "nbformat_minor": 0,
  "metadata": {
    "colab": {
      "provenance": [],
      "authorship_tag": "ABX9TyO6AGdT2JIeeTzx8zSVmCWD",
      "include_colab_link": true
    },
    "kernelspec": {
      "name": "python3",
      "display_name": "Python 3"
    },
    "language_info": {
      "name": "python"
    }
  },
  "cells": [
    {
      "cell_type": "markdown",
      "metadata": {
        "id": "view-in-github",
        "colab_type": "text"
      },
      "source": [
        "<a href=\"https://colab.research.google.com/github/ced-sys/SubTerra/blob/main/Buffer_points.ipynb\" target=\"_parent\"><img src=\"https://colab.research.google.com/assets/colab-badge.svg\" alt=\"Open In Colab\"/></a>"
      ]
    },
    {
      "cell_type": "code",
      "execution_count": 7,
      "metadata": {
        "id": "kezwDjBmLQ7Y"
      },
      "outputs": [],
      "source": [
        "import geopandas as gpd"
      ]
    },
    {
      "cell_type": "code",
      "source": [
        "from google.colab import drive\n",
        "drive.mount('/content/drive')"
      ],
      "metadata": {
        "colab": {
          "base_uri": "https://localhost:8080/"
        },
        "id": "ZXCpQeZ6OuMJ",
        "outputId": "fc2adfa1-0319-41ef-d419-a7979b2d7d87"
      },
      "execution_count": 8,
      "outputs": [
        {
          "output_type": "stream",
          "name": "stdout",
          "text": [
            "Mounted at /content/drive\n"
          ]
        }
      ]
    },
    {
      "cell_type": "code",
      "source": [
        "input_path='/content/drive/MyDrive/SubTerra/geothermal_sites.geojson'\n",
        "output_path='/content/drive/MyDrive/SubTerra/positive_buffer.geojson'"
      ],
      "metadata": {
        "id": "NHv1SnlzLZ8i"
      },
      "execution_count": 9,
      "outputs": []
    },
    {
      "cell_type": "code",
      "source": [
        "points=gpd.read_file(input_path)"
      ],
      "metadata": {
        "id": "2eSRjvAYLkwc"
      },
      "execution_count": 10,
      "outputs": []
    },
    {
      "cell_type": "code",
      "source": [
        "if points.crs is None or points.crs.to_epsg() != 32636:\n",
        "  points=points.to_crs(epsg=32636)"
      ],
      "metadata": {
        "id": "2xY8iL_hOF5_"
      },
      "execution_count": 11,
      "outputs": []
    },
    {
      "cell_type": "code",
      "source": [
        "buffered=points.copy()\n",
        "buffered['geometry']=buffered.buffer(500)"
      ],
      "metadata": {
        "id": "OLuwcvUgQLoG"
      },
      "execution_count": 12,
      "outputs": []
    },
    {
      "cell_type": "code",
      "source": [
        "buffered=buffered.to_crs(epsg=4326)"
      ],
      "metadata": {
        "id": "3KdEf8nkQTdp"
      },
      "execution_count": 13,
      "outputs": []
    },
    {
      "cell_type": "code",
      "source": [
        "buffered.to_file(output_path, driver='GeoJSON')\n",
        "print(\"Saved buffered zones to:\", output_path)"
      ],
      "metadata": {
        "colab": {
          "base_uri": "https://localhost:8080/"
        },
        "id": "iOBzutAyQXyW",
        "outputId": "5a94a018-be44-473e-e706-1bf2689a7775"
      },
      "execution_count": 14,
      "outputs": [
        {
          "output_type": "stream",
          "name": "stdout",
          "text": [
            "Saved buffered zones to: /content/drive/MyDrive/SubTerra/positive_buffer.geojson\n"
          ]
        }
      ]
    }
  ]
}