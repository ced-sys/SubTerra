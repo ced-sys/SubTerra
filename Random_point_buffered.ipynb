{
  "nbformat": 4,
  "nbformat_minor": 0,
  "metadata": {
    "colab": {
      "provenance": [],
      "authorship_tag": "ABX9TyMFZOGS0ODGA4+xBmVNC9Xb",
      "include_colab_link": true
    },
    "kernelspec": {
      "name": "python3",
      "display_name": "Python 3"
    },
    "language_info": {
      "name": "python"
    }
  },
  "cells": [
    {
      "cell_type": "markdown",
      "metadata": {
        "id": "view-in-github",
        "colab_type": "text"
      },
      "source": [
        "<a href=\"https://colab.research.google.com/github/ced-sys/SubTerra/blob/main/Random_point_buffered.ipynb\" target=\"_parent\"><img src=\"https://colab.research.google.com/assets/colab-badge.svg\" alt=\"Open In Colab\"/></a>"
      ]
    },
    {
      "cell_type": "code",
      "execution_count": 1,
      "metadata": {
        "colab": {
          "base_uri": "https://localhost:8080/"
        },
        "id": "rHSHun8oRMCA",
        "outputId": "5fc1c982-a353-4ec1-9307-7e14fca26e5c"
      },
      "outputs": [
        {
          "output_type": "stream",
          "name": "stdout",
          "text": [
            "Mounted at /content/drive\n"
          ]
        }
      ],
      "source": [
        "from google.colab import drive\n",
        "drive.mount('/content/drive')"
      ]
    },
    {
      "cell_type": "code",
      "source": [
        "import geopandas as gpd\n",
        "from shapely.geometry import Point\n",
        "import random"
      ],
      "metadata": {
        "id": "Q2GBjvtCR6_i"
      },
      "execution_count": 4,
      "outputs": []
    },
    {
      "cell_type": "code",
      "source": [
        "buffer_path='/content/drive/MyDrive/SubTerra/positive_buffer.geojson'\n",
        "output_path='/content/drive/MyDrive/SubTerra/Data For ML/positive_samples.geojson'"
      ],
      "metadata": {
        "id": "4xJYmrK0RSdd"
      },
      "execution_count": 5,
      "outputs": []
    },
    {
      "cell_type": "code",
      "source": [
        "gdf=gpd.read_file(buffer_path)"
      ],
      "metadata": {
        "id": "fjCi-OX7R1c_"
      },
      "execution_count": 7,
      "outputs": []
    },
    {
      "cell_type": "code",
      "source": [
        "if gdf.crs.to_epsg()!=32636:\n",
        "  gdf=gdf.to_crs(epsg=32636)"
      ],
      "metadata": {
        "id": "0Ou0gFaqSGkX"
      },
      "execution_count": 8,
      "outputs": []
    },
    {
      "cell_type": "code",
      "source": [
        "sample_points=[]\n",
        "labels=[]"
      ],
      "metadata": {
        "id": "fDEM45rkSRDa"
      },
      "execution_count": 9,
      "outputs": []
    },
    {
      "cell_type": "code",
      "source": [
        "points_per_polygon=20"
      ],
      "metadata": {
        "id": "5IOKFeR3STg-"
      },
      "execution_count": 10,
      "outputs": []
    },
    {
      "cell_type": "code",
      "source": [
        "for poly in gdf.geometry:\n",
        "  minx, miny, maxx, maxy=poly.bounds\n",
        "  count=0\n",
        "  while count<points_per_polygon:\n",
        "    pnt=Point(random.uniform(minx, maxx), random.uniform(miny, maxy))\n",
        "    if poly.contains(pnt):\n",
        "      sample_points.append(pnt)\n",
        "      labels.append(1)\n",
        "      count+=1"
      ],
      "metadata": {
        "id": "f1RN-seZSV3H"
      },
      "execution_count": 11,
      "outputs": []
    },
    {
      "cell_type": "code",
      "source": [
        "samples_gdf=gpd.GeoDataFrame({'label':labels}, geometry=sample_points, crs=gdf.crs)"
      ],
      "metadata": {
        "id": "ANILNwSAS4hJ"
      },
      "execution_count": 12,
      "outputs": []
    },
    {
      "cell_type": "code",
      "source": [
        "samples_gdf.to_file(output_path, driver='GeoJSON')\n",
        "\n",
        "print(f\"Generated {len(samples_gdf)} positive points inside geothermal buffers.\")\n",
        "print(f\"Saved to: {output_pathDo}\")"
      ],
      "metadata": {
        "colab": {
          "base_uri": "https://localhost:8080/"
        },
        "id": "XoIXPM7zTHCi",
        "outputId": "03893b49-22c8-4c5b-d4d1-1c16d9ae36e2"
      },
      "execution_count": 13,
      "outputs": [
        {
          "output_type": "stream",
          "name": "stdout",
          "text": [
            "Generated 260 positive points inside geothermal buffers.\n",
            "Saved to: /content/drive/MyDrive/SubTerra/Data For ML/positive_samples.geojson\n"
          ]
        }
      ]
    }
  ]
}