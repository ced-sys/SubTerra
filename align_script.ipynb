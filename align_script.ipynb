{
  "cells": [
    {
      "cell_type": "markdown",
      "metadata": {
        "id": "view-in-github",
        "colab_type": "text"
      },
      "source": [
        "<a href=\"https://colab.research.google.com/github/ced-sys/SubTerra/blob/main/align_script.ipynb\" target=\"_parent\"><img src=\"https://colab.research.google.com/assets/colab-badge.svg\" alt=\"Open In Colab\"/></a>"
      ]
    },
    {
      "cell_type": "code",
      "execution_count": 1,
      "metadata": {
        "colab": {
          "base_uri": "https://localhost:8080/"
        },
        "id": "HrSzTdkUh4oy",
        "outputId": "60bcd198-a2f9-4580-be3d-ac44a4db02d7"
      },
      "outputs": [
        {
          "output_type": "stream",
          "name": "stdout",
          "text": [
            "Drive already mounted at /content/drive; to attempt to forcibly remount, call drive.mount(\"/content/drive\", force_remount=True).\n"
          ]
        }
      ],
      "source": [
        "from google.colab import drive\n",
        "drive.mount('/content/drive')"
      ]
    },
    {
      "cell_type": "code",
      "execution_count": 2,
      "metadata": {
        "colab": {
          "base_uri": "https://localhost:8080/"
        },
        "id": "MxmO7VaFh-28",
        "outputId": "9d7a8a10-156b-4f8e-a45d-329a6a313457"
      },
      "outputs": [
        {
          "output_type": "stream",
          "name": "stdout",
          "text": [
            "Files found in 'Data For ML' folder:\n",
            "- slope.tif\n",
            "- kenya_lithology_clipped.tif\n",
            "- land_cover_2020.tif\n",
            "- ndvi_2020.tif\n",
            "- lst_2020.tif\n",
            "- heat_flow_kenya.tif\n",
            "- kenya_dem.tif\n",
            "- vegetation_peak.tif\n",
            "- tri.tif\n",
            "- fault_distance.tif\n"
          ]
        }
      ],
      "source": [
        "import os\n",
        "data_path='/content/drive/MyDrive/SubTerra/Data For ML'\n",
        "files=os.listdir(data_path)\n",
        "\n",
        "print(\"Files found in 'Data For ML' folder:\")\n",
        "for f in files:\n",
        "  print(\"-\", f)"
      ]
    },
    {
      "cell_type": "code",
      "execution_count": 3,
      "metadata": {
        "id": "hnMklCNEkoG-"
      },
      "outputs": [],
      "source": [
        "!pip install rasterio numpy --quiet\n"
      ]
    },
    {
      "cell_type": "code",
      "execution_count": 4,
      "metadata": {
        "id": "CRt_88wLku4L"
      },
      "outputs": [],
      "source": [
        "import rasterio\n",
        "from rasterio.warp import calculate_default_transform, reproject, Resampling\n",
        "import os"
      ]
    },
    {
      "cell_type": "code",
      "execution_count": 5,
      "metadata": {
        "id": "IvaVSEw7k49y"
      },
      "outputs": [],
      "source": [
        "input_dir='/content/drive/MyDrive/SubTerra/Data For ML/'\n",
        "output_dir='/content/drive/MyDrive/SubTerra/aligned'\n",
        "reference_raster=os.path.join(input_dir, 'kenya_dem.tif')"
      ]
    },
    {
      "cell_type": "code",
      "execution_count": 6,
      "metadata": {
        "id": "5XuoV_cvlSV5"
      },
      "outputs": [],
      "source": [
        "os.makedirs(output_dir, exist_ok=True)"
      ]
    },
    {
      "cell_type": "code",
      "execution_count": 7,
      "metadata": {
        "id": "NdtO1L1_lX-S"
      },
      "outputs": [],
      "source": [
        "to_align=[\n",
        "    'slope.tif',\n",
        "    'kenya_lithology_clipped.tif',\n",
        "    'land_cover_2020.tif',\n",
        "    'ndvi_2020.tif',\n",
        "    'lst_2020.tif',\n",
        "    'heat_flow_kenya.tif',\n",
        "    'vegetation_peak.tif',\n",
        "    'tri.tif',\n",
        "    'fault_distance.tif'\n",
        "]"
      ]
    },
    {
      "cell_type": "code",
      "execution_count": 8,
      "metadata": {
        "id": "BlgJEqhCl3wB"
      },
      "outputs": [],
      "source": [
        "with rasterio.open(reference_raster) as ref:\n",
        "  ref_crs=ref.crs\n",
        "  ref_transform=ref.transform\n",
        "  ref_width=ref.width\n",
        "  ref_height=ref.height\n"
      ]
    },
    {
      "cell_type": "code",
      "execution_count": 9,
      "metadata": {
        "colab": {
          "base_uri": "https://localhost:8080/"
        },
        "id": "khjIvxsOu63U",
        "outputId": "d201375b-cc7c-47c8-8763-699454d70239"
      },
      "outputs": [
        {
          "output_type": "stream",
          "name": "stdout",
          "text": [
            "aligned: slope.tif-> aligned_slope.tif\n",
            "aligned: kenya_lithology_clipped.tif-> aligned_kenya_lithology_clipped.tif\n",
            "aligned: land_cover_2020.tif-> aligned_land_cover_2020.tif\n",
            "aligned: ndvi_2020.tif-> aligned_ndvi_2020.tif\n",
            "aligned: lst_2020.tif-> aligned_lst_2020.tif\n",
            "aligned: heat_flow_kenya.tif-> aligned_heat_flow_kenya.tif\n",
            "aligned: vegetation_peak.tif-> aligned_vegetation_peak.tif\n",
            "aligned: tri.tif-> aligned_tri.tif\n",
            "aligned: fault_distance.tif-> aligned_fault_distance.tif\n",
            "\n",
            "All rasters aligned successfully and saved in: 'SubTerra/aligned/'\n"
          ]
        }
      ],
      "source": [
        "for filename in to_align:\n",
        "  input_path=os.path.join(input_dir, filename)\n",
        "  output_path=os.path.join(output_dir, f'aligned_{filename}')\n",
        "\n",
        "  with rasterio.open(input_path) as src:\n",
        "    dst_array=src.read(\n",
        "        out_shape=(src.count, ref_height, ref_width),\n",
        "        resampling=Resampling.bilinear if src.dtypes[0]!= 'uint8' else Resampling.nearest\n",
        "    )\n",
        "\n",
        "    kwargs=src.meta.copy()\n",
        "    kwargs.update({\n",
        "        'crs':ref_crs,\n",
        "        'transform':ref_transform,\n",
        "        'width':ref_width,\n",
        "        'height':ref_height\n",
        "    })\n",
        "\n",
        "    with rasterio.open(output_path, 'w', **kwargs) as dst:dst.write(dst_array)\n",
        "\n",
        "  print(f\"aligned: {filename}-> aligned_{filename}\")\n",
        "print(\"\\nAll rasters aligned successfully and saved in: 'SubTerra/aligned/'\")\n",
        "\n"
      ]
    }
  ],
  "metadata": {
    "accelerator": "TPU",
    "colab": {
      "gpuType": "V28",
      "provenance": [],
      "authorship_tag": "ABX9TyPTUqPRQNLa38nwSO/9FOsc",
      "include_colab_link": true
    },
    "kernelspec": {
      "display_name": "Python 3",
      "name": "python3"
    },
    "language_info": {
      "name": "python"
    }
  },
  "nbformat": 4,
  "nbformat_minor": 0
}