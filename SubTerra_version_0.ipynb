{
  "nbformat": 4,
  "nbformat_minor": 0,
  "metadata": {
    "colab": {
      "provenance": [],
      "include_colab_link": true
    },
    "kernelspec": {
      "name": "python3",
      "display_name": "Python 3"
    },
    "language_info": {
      "name": "python"
    }
  },
  "cells": [
    {
      "cell_type": "markdown",
      "metadata": {
        "id": "view-in-github",
        "colab_type": "text"
      },
      "source": [
        "<a href=\"https://colab.research.google.com/github/ced-sys/SubTerra/blob/main/SubTerra_version_0.ipynb\" target=\"_parent\"><img src=\"https://colab.research.google.com/assets/colab-badge.svg\" alt=\"Open In Colab\"/></a>"
      ]
    },
    {
      "cell_type": "markdown",
      "source": [
        "## Install packages using pip\n",
        "* `graphviz`: A python interface for the GraphViz graph visualization software. Its typically used to render decision trees, graphs, or workflows as visual diagrams.\n",
        "\n",
        "* `pydotplus`: A python library that interfaces with Graphviz's DOT langauge. Commonly used to create and manipulate graphs and visualize decisio trees (especially from `scikit-learn` models)."
      ],
      "metadata": {
        "id": "Va64bz_d5oCq"
      }
    },
    {
      "cell_type": "code",
      "execution_count": null,
      "metadata": {
        "colab": {
          "base_uri": "https://localhost:8080/"
        },
        "id": "BLMpNoY9MA0l",
        "outputId": "4f6ab05f-39ee-495d-bced-0ec5916b99a2"
      },
      "outputs": [
        {
          "output_type": "stream",
          "name": "stdout",
          "text": [
            "Requirement already satisfied: graphviz in /usr/local/lib/python3.11/dist-packages (0.21)\n",
            "Requirement already satisfied: pydotplus in /usr/local/lib/python3.11/dist-packages (2.0.2)\n",
            "Requirement already satisfied: pyparsing>=2.0.1 in /usr/local/lib/python3.11/dist-packages (from pydotplus) (3.2.3)\n"
          ]
        }
      ],
      "source": [
        "!pip install graphviz pydotplus"
      ]
    },
    {
      "cell_type": "markdown",
      "source": [
        "## Import libraries\n",
        "This code cellimports all the key libraries and modules you'll need for the machine learning workflow.\n",
        "\n",
        "* `import pandas as pd`: Imports Pandas, used for handling tabular data (like CSV files). It provides the `DataFrame` object.\n",
        "\n",
        "* `import numpy as np`: Imports NumPy, the core library for numerical operations and arrays.\n",
        "\n",
        "*  `import matplotlib.pyplot as plt`: Imports Matplotlib's plotting interface for basic visualizations (like histograms, scatter plots, etc).\n",
        "\n",
        "* `imports seaborn as sns`: Imports Seaborn, a statistical data visualization library built on top of Matplotlib (great for heatmaps, pairplots etc.,)\n",
        "\n",
        "* `from sklearn.tree import DecisionTreeClassifier, plot_tree, export_graphviz`: Imports `DecisionTreeClassifier`, a scikit-learn model used for classification, `plot_tree` for quick matplotlib-based tree visualizations. `export_graphviz` Converts the trained decision tree into DOT format for use with Graphviz.\n",
        "\n",
        "* `from sklearn.metrics import classification_report, confusion_matrix`:\n",
        "Provides evaluation metrics: `classification_report`, which gives the precision, recall and F1-Score and the `confusion_matrix` which shows the true vs predicted class matrix.\n",
        "\n",
        "* `import graphviz`: Allows to render DOT language diagrams directly in Python.\n",
        "\n",
        "* `from IPython.display import display, Image`: Used in Jupyter to display images and formatted outputs inline.\n",
        "\n",
        "* `import pydorplus`: Converts DOT data into images like PNG and SVG.\n",
        "\n",
        "* `import io`: Provides tools tohandle in-memory streams. (e.g., convert dot graph output to image in memory)."
      ],
      "metadata": {
        "id": "amDDt-S_7ynG"
      }
    },
    {
      "cell_type": "code",
      "source": [
        "import pandas as pd\n",
        "import numpy as np\n",
        "import matplotlib.pyplot as plt\n",
        "import seaborn as sns\n",
        "from sklearn.tree import DecisionTreeClassifier, plot_tree, export_graphviz\n",
        "from sklearn.model_selection import train_test_split\n",
        "from sklearn.metrics import classification_report, confusion_matrix\n",
        "import graphviz\n",
        "from IPython.display import display, Image\n",
        "import pydotplus\n",
        "import io"
      ],
      "metadata": {
        "id": "px9L2aEUO9AQ"
      },
      "execution_count": null,
      "outputs": []
    },
    {
      "cell_type": "markdown",
      "source": [
        "## Visualization settings\n",
        "This cell customizes the style and appearance o the plots using Matplotlib settings."
      ],
      "metadata": {
        "id": "PyqtJ4PKTbPa"
      }
    },
    {
      "cell_type": "code",
      "source": [
        "plt.style.use('seaborn-v0_8-whitegrid')\n",
        "plt.rcParams['figure.figsize']=(16, 14)\n",
        "plt.rcParams['font.size']=12"
      ],
      "metadata": {
        "id": "OS4OJC6VT4Ti"
      },
      "execution_count": null,
      "outputs": []
    },
    {
      "cell_type": "markdown",
      "source": [
        "## RandomSeed\n",
        "* This line sets the random seed for NumPy's random number generator to 42.\n",
        "\n",
        "* It ensures reproducibility: Any function using `np.random` (e.g., for shuffling, sampling or generating synthetic data) wll produce te same results every time you run the code.\n",
        "\n",
        "* Makes random processes deterministic for debugging, sharing or retaining."
      ],
      "metadata": {
        "id": "OmW0ojMETrNk"
      }
    },
    {
      "cell_type": "code",
      "source": [
        "np.random.seed(42)"
      ],
      "metadata": {
        "id": "wNSMfWjaPn1l"
      },
      "execution_count": null,
      "outputs": []
    },
    {
      "cell_type": "markdown",
      "source": [
        "## Generate Synthetic geothermal data\n",
        "This function generates synthetic geothermal data that mimics real-world geothermal exploration features.\n",
        "\n",
        "###Function purpose\n",
        "`def generate_geothermal_data(n_samples=500):`\n",
        "* Generates `n_samples` rows of geothermal-related features, and classifies each sample into Low, Moderate, or High geothermal potential basedon custom logic that imitates geoscientific rules.\n",
        "\n",
        "###Target Variable construction: `y`\n",
        "**Class 2: High potential**\n",
        "\n",
        "Samples are labelled as high potential(2) if they meet any of the following domain-inspired rules, such as:\n",
        "* High heat flow +close to fault+low resistivity.\n",
        "* High heat flow + seismic activity.\n",
        "* Volcanic rocks + strong alteration + Hot springs.\n",
        "* Hot Springs + high temperature anomaly.\n",
        "* Hot springs + strong geochemical signals + low resistivity.\n",
        "\n",
        "**Class 1: Moderate potential**\n",
        "\n",
        "Assigned if:\n",
        "* Heat flow is between 60-80 and moderate geological moderators.\n",
        "* Hot springs present but weaker signs.\n",
        "* Only assigned if not already marked as high.\n",
        "\n",
        "**Class 0: Low Potential**\n",
        "\n",
        "* Default class for everything else.\n",
        "\n",
        "###Shuffling and Output\n",
        "`shuffled_indices=np.random.permutation(n_samples)`\n",
        "* Randomizes the order of the dataset to prevent any sequence bias.\n",
        "\n",
        "###Returns\n",
        "`return X, y, y_names`\n",
        "* `X`: DataFrame of feature values.\n",
        "* `y`: Numerical labels (0, 1, 2)\n",
        "* `y_names`: Categorical labels (\"low\", \"moderate\", \"high\").\n"
      ],
      "metadata": {
        "id": "mi62evTnUzXq"
      }
    },
    {
      "cell_type": "code",
      "source": [
        "def generate_geothermal_data(n_samples=500):\n",
        "  \"\"\"\n",
        "  Generate synthetic data for geothermal site classification with realistic relationships\n",
        "\n",
        "  Parameters: n_samples (int): Number of smaples generate\n",
        "\n",
        "  Returns: X(DataFrame): Features y(Features): Target labels\n",
        "  \"\"\"\n",
        "  data=pd.DataFrame()\n",
        "\n",
        "  #Heat flow (mW/ m**2)\n",
        "  data['heat_flow']=np.random.gamma(shape=3, scale=20, size=n_samples)+20\n",
        "\n",
        "  #Rock type (0: sedimentary, 1: plutonic, 2: Volcanic)\n",
        "  data['rock_type']=np.random.choice([0,1,2], size=n_samples, p=[0.5, 0.3, 0.2])\n",
        "\n",
        "  #Fault proximity (Km) - distance to nearest fault\n",
        "  data['fault_distance']=np.random.exponential(scale=10, size=n_samples)\n",
        "\n",
        "  #Hydrothermal alteration (0:None, 1: Weak, 2: Moderate, 3:Strong)\n",
        "  data['alteration']=np.random.choice([0, 1, 2, 3], size=n_samples, p=[0.6, 0.2, 0.15, 0.05])\n",
        "\n",
        "  #Resistivity (ohm-m)-low values can indicate hydrothermal fluids\n",
        "  #Create a bimodal distribution to represent both conductive and resistive zones\n",
        "  resistivity_high=np.random.lognormal(mean=5, sigma=1, size=int(n_samples*0.7))\n",
        "  resistivity_low=np.random.lognormal(mean=2, sigma=0.5, size=n_samples-int(n_samples*0.7))\n",
        "  data['resistivity']=np.concatenate([resistivity_high, resistivity_low])\n",
        "  np.random.shuffle(data['resistivity'])\n",
        "\n",
        "  #Surface Temperature anomaly\n",
        "  data['temp_anomaly']=np.random.exponential(scale=2, size=n_samples)\n",
        "\n",
        "  #Presence of Hot Springs or Fumaroles (0:None, 1:Present)\n",
        "  data['hot_springs']=np.random.choice([0, 1], size=n_samples, p=[0.85, 0.15])\n",
        "\n",
        "  #Seismic activity (events per year in the vicinity)\n",
        "  data['seismic_activity']=np.random.poisson(lam=2, size=n_samples)\n",
        "\n",
        "  #Gravity anomal (mGal)\n",
        "  data['gravity_anomaly']=np.random.normal(loc=0, scale=5, size=n_samples)\n",
        "\n",
        "  #Geochemical Signatures (0:None, 1: Weak, 2: Strong)\n",
        "  data['geochemical']=np.random.choice([0, 1, 2], size=n_samples, p=[0.7, 0.2, 0.1])\n",
        "\n",
        "  #Createtarget variable based on realistic geological rules\n",
        "  y=np.zeros(n_samples, dtype=int)\n",
        "\n",
        "  #High potential (2) criteria\n",
        "  high_potential=(\n",
        "      ((data['heat_flow']>80)& (data['fault_distance']<5)& (data['resistivity']<20))|\n",
        "      ((data['heat_flow']>80)& (data['fault_distance']<5)& (data['seismic_activity']>5))|\n",
        "      ((data['hot_springs']>80)& (data['rock_type']==2)&(data['alteration']>=2)) |\n",
        "      ((data['hot_springs']==1)& (data['alteration']>=2)& (data['temp_anomaly']>3)) |\n",
        "      ((data['hot_springs']==1)& (data['geochemical']==2)& (data['resistivity']<30))\n",
        "\n",
        "  )\n",
        "  y[high_potential]=2\n",
        "\n",
        "  #Moderate Potential (1) Criteria\n",
        "  moderate_potential=(\n",
        "      ((data['heat_flow']>60)& (data['heat_flow']<=80)& (data['fault_distance']<10))|\n",
        "      ((data['heat_flow']>80)& (data['fault_distance']>=5)& (data['fault_distance']<10))|\n",
        "      ((data['hot_springs']==1)& (data['alteration']==1))|\n",
        "      ((data['heat_flow']>60)& (data['rock_type']==1)& (data['fault_distance']<15))|\n",
        "      ((data['heat_flow']<=60)& (data['hot_springs']==1)&(data['alteration']<2))|\n",
        "      ((data['heat_flow']>60)& (data['heat_flow']<=80)& (data['gravity_anomaly'].abs()>5))\n",
        "  )\n",
        "\n",
        "  #Only set to moderate ifnot already set to high\n",
        "  moderate_potential=moderate_potential & (y!=2)\n",
        "  y[moderate_potential]=1\n",
        "\n",
        "  #Low potential (0) is default\n",
        "\n",
        "  #Create target names forclarity\n",
        "  y_names=pd.Series(y).map({0: \"Low\", 1:\"Moderate\", 2:\"High\"})\n",
        "\n",
        "  #Shuffle data\n",
        "  shuffled_indices=np.random.permutation(n_samples)\n",
        "  return data.iloc[shuffled_indices].reset_index(drop=True), y[shuffled_indices], y_names.iloc[shuffled_indices].reset_index(drop=True)\n",
        "\n",
        "\n"
      ],
      "metadata": {
        "id": "p9o3fVLnPrd4"
      },
      "execution_count": null,
      "outputs": []
    },
    {
      "cell_type": "code",
      "source": [
        "#Generate the data\n",
        "X, y_numeric, y_names=generate_geothermal_data(n_samples=1000)"
      ],
      "metadata": {
        "id": "SXp-_u5RyfbD"
      },
      "execution_count": null,
      "outputs": []
    },
    {
      "cell_type": "code",
      "source": [
        "print(\"Generated Dataset Shape:\", X.shape)\n",
        "print(\"\\nFeature Statistics:\")\n",
        "print(X.describe().round(2))"
      ],
      "metadata": {
        "id": "pJnuma0oypyo"
      },
      "execution_count": null,
      "outputs": []
    },
    {
      "cell_type": "code",
      "source": [
        "print('\\nTarget Distribution:')\n",
        "print(pd.Series(y_names).value_counts())"
      ],
      "metadata": {
        "id": "chqlTeFX-S_n"
      },
      "execution_count": null,
      "outputs": []
    },
    {
      "cell_type": "code",
      "source": [
        "print(\"\\nSample Data:\")\n",
        "sample_df=X.copy()\n",
        "sample_df['potential']=y_names\n",
        "print(sample_df.head())"
      ],
      "metadata": {
        "id": "VLw2kF39-7aU"
      },
      "execution_count": null,
      "outputs": []
    },
    {
      "cell_type": "code",
      "source": [
        "#Prepare feature names with descriptions for better interpretation\n",
        "feature_names=[\n",
        "    'Heat Flow (mW/m**2)',\n",
        "    'Rck Type (0: Sed, 1:Plut, 2:Volc)',\n",
        "    'Fault Distance (km)',\n",
        "    'Alteration (0-3)',\n",
        "    'Resistivity (ohm-m)',\n",
        "    'Temperature Anomaly (C)',\n",
        "    'Hot Springs (0:No, 1:Yes)',\n",
        "    'Seismic Activity (events/year)',\n",
        "    'Gravity Anomaly (mGal)',\n",
        "    'Geochemical Signatures (0-2)'\n",
        "]"
      ],
      "metadata": {
        "id": "ILM1XzS__Jce"
      },
      "execution_count": null,
      "outputs": []
    },
    {
      "cell_type": "code",
      "source": [
        "#Create class names for better readability\n",
        "class_names=['Low Potential', 'Moderate Potential', 'High Potential']"
      ],
      "metadata": {
        "id": "kPKeCl-kADdw"
      },
      "execution_count": null,
      "outputs": []
    },
    {
      "cell_type": "code",
      "source": [
        "#Split the data\n",
        "X_train, X_test, y_train,y_test=train_test_split(X, y_numeric, test_size=0.25, random_state=42, stratify=y_numeric)"
      ],
      "metadata": {
        "id": "e4itG41rAPKO"
      },
      "execution_count": null,
      "outputs": []
    },
    {
      "cell_type": "code",
      "source": [
        "#Train a decision tree classifier\n",
        "#We'll limit the dpeth to get a more interpretable tree\n",
        "dt=DecisionTreeClassifier(max_depth=5, min_samples_split=20, min_samples_leaf=10, random_state=42)\n",
        "dt.fit(X_train,y_train)"
      ],
      "metadata": {
        "id": "QkbggFpZAjbo"
      },
      "execution_count": null,
      "outputs": []
    },
    {
      "cell_type": "code",
      "source": [
        "#Evaluate the model\n",
        "y_pred=dt.predict(X_test)\n",
        "print(\"\\nClassification Report:\")\n",
        "print(classification_report(y_test, y_pred, target_names=class_names))"
      ],
      "metadata": {
        "id": "T-h9bySsBXat"
      },
      "execution_count": null,
      "outputs": []
    },
    {
      "cell_type": "code",
      "source": [
        "#Plot confusion matrix\n",
        "plt.figure(figsize=(8, 6))\n",
        "cm=confusion_matrix(y_test, y_pred)\n",
        "sns.heatmap(cm, annot=True, fmt='d', cmap='Blues', xticklabels=class_names, yticklabels=class_names)\n",
        "plt.xlabel('Predicted')\n",
        "plt.ylabel('Actual')\n",
        "plt.title('Confusion Matrix')\n",
        "plt.tight_layout()\n",
        "plt.show()"
      ],
      "metadata": {
        "id": "1bBw5iM0BlZr"
      },
      "execution_count": null,
      "outputs": []
    },
    {
      "cell_type": "code",
      "source": [
        "#Visualize the decision tree\n",
        "plt.figure(figsize=(20, 12))\n",
        "plot_tree(dt, feature_names=feature_names, class_names=class_names, filled=True, rounded=True, fontsize=10)\n",
        "plt.title(\"Decision Tree for Geothermal Potential Classification\", fontsize=16)\n",
        "plt.tight_layout()\n",
        "plt.show()"
      ],
      "metadata": {
        "id": "AU7G-bGrCPam"
      },
      "execution_count": null,
      "outputs": []
    },
    {
      "cell_type": "code",
      "source": [
        "#Create a more visually appealing tree using grpahviz\n",
        "dot_data=export_graphviz(\n",
        "    dt,\n",
        "    out_file=None,\n",
        "    feature_names=feature_names,\n",
        "    class_names=class_names,\n",
        "    filled=True,\n",
        "    rounded=True,\n",
        "    special_characters=True,\n",
        "    proportion=True\n",
        ")"
      ],
      "metadata": {
        "id": "zcBQalRiCsv6"
      },
      "execution_count": null,
      "outputs": []
    },
    {
      "cell_type": "code",
      "source": [
        "#Generate the graph\n",
        "graph=graphviz.Source(dot_data)\n",
        "display(graph)"
      ],
      "metadata": {
        "id": "MvWcFe_JDUbU"
      },
      "execution_count": null,
      "outputs": []
    },
    {
      "cell_type": "code",
      "source": [
        "#Save the visualization to a file\n",
        "graph.render(\"geothermal_decision_tree\", format=\"png\", cleanup=True)"
      ],
      "metadata": {
        "id": "0TQVVG1PDFmd"
      },
      "execution_count": null,
      "outputs": []
    },
    {
      "cell_type": "code",
      "source": [
        "#Feature importance analysis\n",
        "importances=dt.feature_importances_\n",
        "indices=np.argsort(importances)[::-1]"
      ],
      "metadata": {
        "id": "CI2q3ZhbDRav"
      },
      "execution_count": null,
      "outputs": []
    },
    {
      "cell_type": "code",
      "source": [
        "plt.figure(figsize=(12, 8))\n",
        "plt.title(\"Feature Importance for Geothermal Potential Classification\")\n",
        "plt.bar(range(X.shape[1]), importances[indices], align='center')\n",
        "plt.xticks(range(X.shape[1]), [feature_names[i] for i in indices], rotation=45, ha='right')\n",
        "plt.tight_layout()\n",
        "plt.show()"
      ],
      "metadata": {
        "id": "SyGA6CDLD_tF"
      },
      "execution_count": null,
      "outputs": []
    },
    {
      "cell_type": "code",
      "source": [
        "print(\"\\nFeature Importance Ranking:\")\n",
        "for i in indices:\n",
        "  print(f\"{feature_names[i]}: {importances[i]:.4f}\")"
      ],
      "metadata": {
        "id": "o7aSmQXnEc2e"
      },
      "execution_count": null,
      "outputs": []
    },
    {
      "cell_type": "code",
      "source": [
        "#Create a function to classify new sites\n",
        "def classify_site(heat_flow, rock_type, fault_distance, alteration, resistivity, temp_anomaly, hot_springs, seismic_activity, gravity_anomaly, geochemical):\n",
        "  \"\"\"\n",
        "  Classify a geothermal site based on its features\n",
        "\n",
        "  Parameters:\n",
        "  -heat_flow: Heat Flow (mW/m**2)\n",
        "  -rock_type: Rock Type (0: Sedimentary, 1: Plutonic, 2: Volcanic)\n",
        "  -fault_distance: Distance to the nearest fault (km)\n",
        "  -alteration: Hydrothermal Alteraion (0: None, 1: Weak, 2:Moderate, 3: Strong)\n",
        "  -resistivity: Electrical resistiity (ohm-m)\n",
        "  -temp_anomaly: Surface temperature anomaly (degree Celsius above background)\n",
        "  -hot_springs: Presence of hot springs (0: No, 1: Yes)\n",
        "  -seismic_activity: Seismic activity (Events per year)\n",
        "  -gravity_anomaly: Gravity anomaly (mGal)\n",
        "  -geochemical: Geochemical Signatures (0: None, 1: Weak, 2: Strong)\n",
        "\n",
        "  Returns:\n",
        "  -Predicted class and probability\n",
        "  \"\"\"\n",
        "  features=np.array([[\n",
        "      heat_flow, rock_type, fault_distance, alteration, resistivity,\n",
        "      temp_anomaly, hot_springs, seismic_activity, gravity_anomaly, geochemical\n",
        "  ]])\n",
        "\n",
        "  predicted_class=dt.predict(features)[0]\n",
        "  probabilities=dt.predict_proba(features)[0]\n",
        "\n",
        "  print(f\"Predicted Class: {class_names[predicted_class]}\")\n",
        "  print(\"Class Probabilities:\")\n",
        "  for i, cls in enumerate(class_names):\n",
        "    print(f\" {cls}: {probabilities[i]:.2f}\")\n",
        "\n",
        "  return predicted_class, probabilities\n"
      ],
      "metadata": {
        "id": "pgPKlnxdGft-"
      },
      "execution_count": null,
      "outputs": []
    },
    {
      "cell_type": "code",
      "source": [
        "#Example usage of the classification function\n",
        "print(\"\\nExample Site Classification:\")\n",
        "classify_site(\n",
        "    heat_flow=85, #High Heat flow\n",
        "    rock_type=2, #Volcanic\n",
        "    fault_distance=3, #Close to fault\n",
        "    alteration=2, #Moderate alteration\n",
        "    resistivity=15, #Low resistivity\n",
        "    temp_anomaly=2.5, #Moderate temperature anomaly\n",
        "    hot_springs=1, #Hot springs present\n",
        "    seismic_activity=4, #Some seismic activity\n",
        "    gravity_anomaly=3.2, #Minor gravity anomaly\n",
        "    geochemical=2 #Strong geochemical signatures\n",
        ")"
      ],
      "metadata": {
        "id": "uH4dqd_mapYG"
      },
      "execution_count": null,
      "outputs": []
    },
    {
      "cell_type": "code",
      "source": [
        "#Create an interactive function to input newsites\n",
        "def interactive_classification():\n",
        "  print(\"\\n---Geothermal Site Potential Classification ---\")\n",
        "\n",
        "  heat_flow=float(input(\"Heat Flow (mW/m**2):\"))\n",
        "\n",
        "  print(\"Rock Type Options:\")\n",
        "  print(\"): Sedimentary\")\n",
        "  print(\"1: Plutonic\")\n",
        "  print(\"2: Volcanic\")\n",
        "  rock_type=int(input(\"Rock Type (0-2):\"))\n",
        "\n",
        "  fault_distance=float(input(\"Fault distance (km):\"))\n",
        "\n",
        "  print(\"Hydrothermal Alteration Options:\")\n",
        "  print(\"0: None\")\n",
        "  print(\"1: Weak\")\n",
        "  print(\"2: Moderate\")\n",
        "  print(\"3: Strong\")\n",
        "  alteration=int(input(\"Alteration Level (0-3):\"))\n",
        "\n",
        "  resistivity=float(input(\"Electrical Resistivity (ohm-m):\"))\n",
        "  temp_anomaly=float(input(\"Surface Temperature Anomaly (C above background):\"))\n",
        "\n",
        "  hot_springs=int(input(\"Hot Springs Present? (0: No, 1:Yes):\"))\n",
        "  seismic_activity=float(input(\"Seismic Activity (events/ year):\"))\n",
        "  gravity_anomaly=float(input(\"Gravity anomaly(mGal):\"))\n",
        "\n",
        "  print(\"Geochemical Signatures Options:\")\n",
        "  print(\"0: None\")\n",
        "  print(\"1: Weak\")\n",
        "  print(\"2: Strong\")\n",
        "  geochemical=int(input(\"Geochemical Signature Level (0-2):\"))\n",
        "\n",
        "  print(\"\\nClassification Results:\")\n",
        "  classify_site(\n",
        "      heat_flow, rock_type, fault_distance, alteration, resistivity,\n",
        "      temp_anomaly, hot_springs, seismic_activity, gravity_anomaly, geochemical\n",
        "  )\n",
        "\n"
      ],
      "metadata": {
        "id": "J01He2ArbrXg"
      },
      "execution_count": null,
      "outputs": []
    },
    {
      "cell_type": "code",
      "source": [
        "#Run the interactive classification\n",
        "interactive_classification()\n",
        "\n",
        "#Create path visualization for a sample site\n",
        "def visualize_decision_path(sample):\n",
        "  \"\"\"Visualize the decision path for a specific sample\"\"\"\n",
        "  decision_path=dt.decision_path(sample.reshape(1, -1))\n",
        "\n",
        "  #Get node feature threshold\n",
        "  node_indicator=decision_path.toarray()[0]\n",
        "  leaf_id=dt.apply(sample.reshape(1, -1))[0]\n",
        "\n",
        "  #Get all nodes in the decision path\n",
        "  node_index=np.where(node_indicator==1)[0]\n",
        "\n",
        "  #Print decision path\n",
        "  print(\"Decision Path for Sample:\")\n",
        "  for i, node_id in enumerate(node_index):\n",
        "    #Check if it's a leaf node\n",
        "    if node_id==leaf_id:\n",
        "      print(f\"Leaf node {node_id}: Predicted class={class_names[dt.tree_.value[node_id].argmax()]}\")\n",
        "      break\n",
        "\n",
        "    #Get the feature and threshold\n",
        "    feature=dt.tree_.feature[node_id]\n",
        "    threshold=dt.tree_.threshold[node_id]\n",
        "\n",
        "    #Print decision rule\n",
        "    if sample[feature]<=threshold:\n",
        "      print(f\"Node {node_id}: {feature_names[feature]}={sample[feature]:.2f}<={threshold:.2f}-> Left\")\n",
        "    else:\n",
        "      print(f\"Node {node_id}: {feature_names[feature]}={sample[feature]:.2f}>{threshold:.2f}-> Right\")"
      ],
      "metadata": {
        "id": "o1z8bkO9e9P_"
      },
      "execution_count": null,
      "outputs": []
    },
    {
      "cell_type": "code",
      "source": [
        "example_site=np.array([85, 2, 3, 3, 15, 2.5, 1, 4, -3.2, 2])\n",
        "print(\"\\nExample Site Features:\")\n",
        "for i, feature in enumerate(feature_names):\n",
        "  print(f\"{feature}:{example_site[i]}\")"
      ],
      "metadata": {
        "id": "KmcJNVNhhWMm"
      },
      "execution_count": null,
      "outputs": []
    },
    {
      "cell_type": "code",
      "source": [
        "visualize_decision_path(example_site)"
      ],
      "metadata": {
        "id": "ezfn1OBj56Wt"
      },
      "execution_count": null,
      "outputs": []
    },
    {
      "cell_type": "code",
      "source": [
        "def explain_rules():\n",
        "  \"\"\"Extract and explain the main decision rules from the tree\"\"\"\n",
        "  #Get the tree structure\n",
        "  n_nodes=dt.tree_.node_count\n",
        "  children_left=dt.tree_.children_left\n",
        "  children_right=dt.tree_.children_right\n",
        "  feature=dt.tree_.feature\n",
        "  threshold=dt.tree_.threshold\n",
        "  value=dt.tree_.value\n",
        "\n",
        "  #Extract paths to all leaf nodes\n",
        "  leaf_nodes=[]\n",
        "  for i in range (n_nodes):\n",
        "    if children_left[i]==children_right[i]:\n",
        "      leaf_nodes.append(i)\n",
        "\n",
        "  #Print rules for each class\n",
        "  for class_idx, class_name in enumerate(class_names):\n",
        "    print(f\"\\nKey rules for {class_name}:\")\n",
        "\n",
        "    #Find leaf nodes for this class\n",
        "    class_leaves=[]\n",
        "    for leaf in leaf_nodes:\n",
        "      if np.argmax(value[leaf])==class_idx:\n",
        "        class_leaves.append(leaf)\n",
        "\n",
        "    #Get the most pure leaves\n",
        "    pure_leaves=[]\n",
        "    for leaf in leaf_nodes:\n",
        "      total=value[leaf].sum()\n",
        "      purity=value[leaf][0][class_idx]/total\n",
        "      if purity>0.7:\n",
        "        pure_leaves.append((leaf, purity))\n",
        "\n",
        "    #Sort by purity\n",
        "    pure_leaves.sort(key=lambda x:x[1], reverse=True)\n",
        "\n",
        "    #Print the top rules\n",
        "    for idx, (leaf, purity) in enumerate(pure_leaves[:3]):\n",
        "      if idx>=3:\n",
        "        break\n",
        "\n",
        "        #Trace path from root to leaf\n",
        "        node_id=leaf\n",
        "        path=[]\n",
        "        while node_id !=0:\n",
        "          parent_found=False\n",
        "          for i in range(n_nodes):\n",
        "            if children_left[i]==node_id or children_right[i]==node_id:\n",
        "              path.append((i, \"<\"))\n",
        "            else:\n",
        "              path.append((i, \">\"))\n",
        "            node_id=i\n",
        "            parent_found=True\n",
        "            break\n",
        "\n",
        "          if not parent_found:\n",
        "            break\n",
        "\n",
        "        #Print the rule\n",
        "        rule=[]\n",
        "        path.reverse()\n",
        "        for node_id, direction in path:\n",
        "          feat=feature[node_id]\n",
        "          thresh=threshold[node_id]\n",
        "          rule.append(f\"{feature_names[feat]}{direction}{thresh:.2f}\")\n",
        "\n",
        "        print(f\"Rule {idx+1}: IF{'AND'.join(rule)} THEN{class_name} (Confidence: {purity:.2f})\")\n",
        "\n"
      ],
      "metadata": {
        "id": "9bkzl_OR6V9I"
      },
      "execution_count": null,
      "outputs": []
    },
    {
      "cell_type": "code",
      "source": [
        "explain_rules()"
      ],
      "metadata": {
        "id": "8U79G2IPCLhn"
      },
      "execution_count": null,
      "outputs": []
    },
    {
      "cell_type": "code",
      "source": [
        "def print_tree_text(tree,feature_names, class_names,spacing=\"|-\"):\n",
        "  \"\"\"Print a decision tree in text form\"\"\"\n",
        "  def _print_tree_recurse(node, depth=0):\n",
        "    indent=' '*depth+spacing\n",
        "\n",
        "    #Checkis leaf node\n",
        "    if tree.tree_.children_left[node]==tree.tree_.children_right[node]:\n",
        "      class_counts=tree.tree_.value[node][0]\n",
        "      total=class_counts.sum()\n",
        "      distribution=class_counts/total\n",
        "      majority_class=np.argmax(class_counts)\n",
        "\n",
        "      #Format the class probabilities\n",
        "      probs=[f\"{class_names[i]}: {prob:.2f}\" for i, prob in enumerate(distribution)]\n",
        "      print(f\"{indent}->Class: {class_names[majority_class]} ({', '.join(probs)})\")\n",
        "      return\n",
        "\n",
        "    #For decsion nodes\n",
        "    feature_index=tree.tree_.feature[node]\n",
        "    threshold=tree.tree_.threshold[node]\n",
        "\n",
        "    print(f\"{indent}{feature_names[feature_index]}<={threshold:.2f}\")\n",
        "    _print_tree_recurse(tree.tree_.children_left[node], depth+1)\n",
        "\n",
        "    print(f\"{indent}{feature_names[feature_index]}> {threshold:.2f}\")\n",
        "    _print_tree_recurse(tree.tree_.children_right[node], depth+1)\n",
        "\n",
        "  print(\"Decision Tree Structure:\")\n",
        "  _print_tree_recurse(0)"
      ],
      "metadata": {
        "id": "T-3QbohZCU42"
      },
      "execution_count": null,
      "outputs": []
    },
    {
      "cell_type": "code",
      "source": [
        "print(\"\\nText Representation of the Decision Tree:\")\n",
        "print_tree_text(dt, feature_names, class_names)"
      ],
      "metadata": {
        "id": "nmqrom1EFJJC"
      },
      "execution_count": null,
      "outputs": []
    },
    {
      "cell_type": "code",
      "source": [
        "#Create scatter plot matri for selected features\n",
        "selected_features=['heat_flow', 'fault_distance', 'resistivity', 'alteration']\n",
        "selected_features_names=[feature_names[X.columns.get_loc(feat)] for feat in selected_features]"
      ],
      "metadata": {
        "id": "P-XDqDk7FR1-"
      },
      "execution_count": null,
      "outputs": []
    },
    {
      "cell_type": "code",
      "source": [
        "#Createa subset o the data\n",
        "plot_data=X[selected_features].copy()\n",
        "plot_data['potential']=y_names"
      ],
      "metadata": {
        "id": "0HFOXOY7GFnc"
      },
      "execution_count": null,
      "outputs": []
    },
    {
      "cell_type": "code",
      "source": [
        "colors={\n",
        "    \"Low\": '#06D6A0',\n",
        "    \"Moderate\": \"#FFD166\",\n",
        "    \"High\": \"#EF6394\"\n",
        "}"
      ],
      "metadata": {
        "id": "Q41-XJB1U6OM"
      },
      "execution_count": null,
      "outputs": []
    },
    {
      "cell_type": "code",
      "source": [
        "g=sns.pairplot(\n",
        "    plot_data,\n",
        "    hue='potential',\n",
        "    palette=colors,\n",
        "    plot_kws={'alpha':0.7, 's':80, 'edgecolor': 'w', 'linewidth':0.5},\n",
        "    diag_kws={'alpha':0.6,'fill':True, 'linewidth':2},\n",
        "    corner=False,\n",
        "    height=3.5,\n",
        "    aspect=1.2\n",
        ")"
      ],
      "metadata": {
        "id": "8xsMJD0VV3fB"
      },
      "execution_count": null,
      "outputs": []
    },
    {
      "cell_type": "code",
      "source": [
        "g.fig.suptitle('Relationships between key geothermal features', y=1.02, fontsize=24, fontweight='bold')"
      ],
      "metadata": {
        "id": "HINn16wNW95f"
      },
      "execution_count": null,
      "outputs": []
    },
    {
      "cell_type": "code",
      "source": [
        "for i, j in zip(*np.triu_indices_from(g.axes, 1)):\n",
        "  g.axes[i, j].grid(True, linestyle='--', alpha=0.7)\n",
        "  g.axes[j, i].grid(True, linestyle='--', alpha=0.7)\n",
        "\n",
        "for i, var in enumerate(selected_features):\n",
        "  g.axes[i, 0].set_ylabel(g.axes[i, 0].get_ylabel(), fontsize=14, fontweight='bold')\n",
        "  g.axes[-1, i].set_xlabel(g.axes[-1, i].get_xlabel(), fontsize=14, fontweight='bold')\n",
        "\n",
        "  g.axes[i, 1].set_title(f'Distribution of {var}', fontsize=12)"
      ],
      "metadata": {
        "id": "Fp4q295dXQhq"
      },
      "execution_count": null,
      "outputs": []
    },
    {
      "cell_type": "code",
      "source": [
        "# Make the legend more prominent\n",
        "plt.subplots_adjust(top=0.9)\n",
        "legend = g._legend\n",
        "legend.set_title('Geothermal Potential', prop={'size': 16, 'weight': 'bold'})\n",
        "for text in legend.get_texts():\n",
        "    text.set_fontsize(14)\n",
        "\n",
        "# Improve legend visibility\n",
        "g.fig.subplots_adjust(right=0.9)\n",
        "legend_position = g.fig.add_axes([0.92, 0.4, 0.1, 0.2])\n",
        "legend_position.axis('off')\n",
        "legend = g.fig.legend(\n",
        "    title='Geothermal Potential',\n",
        "    loc='center left',\n",
        "    bbox_to_anchor=(0.92, 0.5),\n",
        "    fontsize=16,\n",
        "    title_fontsize=18,\n",
        "    frameon=True,\n",
        "    edgecolor='black',\n",
        "    markerscale=2\n",
        ")\n",
        "\n",
        "# Add descriptive annotations to explain key relationships\n",
        "# Heat flow vs fault distance (common relationship in geothermal systems)\n",
        "g.axes[1, 0].annotate(\n",
        "    \"High potential zone\",\n",
        "    xy=(100, 5),\n",
        "    xytext=(120, 15),\n",
        "    fontsize=12,\n",
        "    fontweight='bold',\n",
        "    color='black',\n",
        "    arrowprops=dict(facecolor='black', shrink=0.05, width=2)\n",
        ")\n",
        "\n",
        "# Resistivity vs Heat Flow (another important relationship)\n",
        "g.axes[2, 0].annotate(\n",
        "    \"Low resistivity\\nhigh heat flow\\n(prime targets)\",\n",
        "    xy=(100, 20),\n",
        "    xytext=(130, 300),\n",
        "    fontsize=12,\n",
        "    fontweight='bold',\n",
        "    color='black',\n",
        "    arrowprops=dict(facecolor='black', shrink=0.05, width=2)\n",
        ")\n",
        "\n",
        "# Set x and y limits for better focus on the data\n",
        "for i in range(len(selected_features)):\n",
        "    for j in range(len(selected_features)):\n",
        "        if i != j:  # Skip diagonals\n",
        "            # Adjust the axis limits to focus on where most data points are\n",
        "            g.axes[i, j].set_xlim(left=0)\n",
        "            g.axes[i, j].set_ylim(bottom=0)\n",
        "\n",
        "            # For fault distance, limit to 40km to focus on closer faults\n",
        "            if 'fault_distance' in g.axes[i, j].get_ylabel():\n",
        "                g.axes[i, j].set_ylim(0, 40)\n",
        "            if 'fault_distance' in g.axes[i, j].get_xlabel():\n",
        "                g.axes[i, j].set_xlim(0, 40)\n",
        "\n",
        "            # For resistivity, limit to 1000 ohm-m to focus on lower values\n",
        "            if 'resistivity' in g.axes[i, j].get_ylabel():\n",
        "                g.axes[i, j].set_ylim(0, 1000)\n",
        "            if 'resistivity' in g.axes[i, j].get_xlabel():\n",
        "                g.axes[i, j].set_xlim(0, 1000)\n",
        "\n",
        "# Add explanatory text for the visualization\n",
        "plt.figtext(\n",
        "    0.5, -0.02,\n",
        "    \"Key indicators for geothermal potential assessment shown with contrasting colors.\\n\"\n",
        "    \"Note the clear relationships between heat flow, fault proximity, and resistivity.\",\n",
        "    ha='center',\n",
        "    fontsize=14,\n",
        "    bbox=dict(boxstyle=\"round,pad=0.5\", facecolor='white', alpha=0.8, edgecolor='gray')\n",
        ")\n",
        "\n",
        "# Adjust layout and save\n",
        "plt.tight_layout()\n",
        "plt.savefig('improved_geothermal_features.png', dpi=300, bbox_inches='tight')\n",
        "plt.show()\n",
        "\n",
        "# Optional: Create individual focused plots for key relationships\n",
        "plt.figure(figsize=(12, 10))\n",
        "\n",
        "# Create a figure with 2x2 subplots for key relationships\n",
        "fig, axs = plt.subplots(2, 2, figsize=(16, 14))\n",
        "\n",
        "# 1. Heat Flow vs Fault Distance (top left)\n",
        "sns.scatterplot(\n",
        "    data=plot_data,\n",
        "    x='heat_flow',\n",
        "    y='fault_distance',\n",
        "    hue='potential',\n",
        "    palette=colors,\n",
        "    s=100,\n",
        "    alpha=0.8,\n",
        "    edgecolor='w',\n",
        "    linewidth=0.5,\n",
        "    ax=axs[0, 0]\n",
        ")\n",
        "axs[0, 0].set_title('Heat Flow vs Fault Distance', fontsize=18, fontweight='bold')\n",
        "axs[0, 0].set_xlabel('Heat Flow (mW/m²)', fontsize=14, fontweight='bold')\n",
        "axs[0, 0].set_ylabel('Fault Distance (km)', fontsize=14, fontweight='bold')\n",
        "axs[0, 0].set_ylim(0, 40)\n",
        "axs[0, 0].grid(True, linestyle='--', alpha=0.7)\n",
        "\n",
        "# Add decision boundaries (simplified)\n",
        "axs[0, 0].axhline(y=5, color='black', linestyle='--', alpha=0.5)\n",
        "axs[0, 0].axvline(x=80, color='black', linestyle='--', alpha=0.5)\n",
        "axs[0, 0].text(85, 2, 'High Potential Zone', fontsize=12, fontweight='bold')\n",
        "axs[0, 0].text(40, 7, 'Moderate/Low Zone', fontsize=12)\n",
        "\n",
        "# 2. Heat Flow vs Resistivity (top right)\n",
        "sns.scatterplot(\n",
        "    data=plot_data,\n",
        "    x='heat_flow',\n",
        "    y='resistivity',\n",
        "    hue='potential',\n",
        "    palette=colors,\n",
        "    s=100,\n",
        "    alpha=0.8,\n",
        "    edgecolor='w',\n",
        "    linewidth=0.5,\n",
        "    ax=axs[0, 1]\n",
        ")\n",
        "axs[0, 1].set_title('Heat Flow vs Resistivity', fontsize=18, fontweight='bold')\n",
        "axs[0, 1].set_xlabel('Heat Flow (mW/m²)', fontsize=14, fontweight='bold')\n",
        "axs[0, 1].set_ylabel('Resistivity (ohm-m)', fontsize=14, fontweight='bold')\n",
        "axs[0, 1].set_yscale('log')  # Log scale for resistivity\n",
        "axs[0, 1].grid(True, linestyle='--', alpha=0.7)\n",
        "axs[0, 1].axhline(y=20, color='black', linestyle='--', alpha=0.5)\n",
        "axs[0, 1].text(85, 10, 'Prime Target Zone', fontsize=12, fontweight='bold')\n",
        "\n",
        "# 3. Fault Distance vs Resistivity (bottom left)\n",
        "sns.scatterplot(\n",
        "    data=plot_data,\n",
        "    x='fault_distance',\n",
        "    y='resistivity',\n",
        "    hue='potential',\n",
        "    palette=colors,\n",
        "    s=100,\n",
        "    alpha=0.8,\n",
        "    edgecolor='w',\n",
        "    linewidth=0.5,\n",
        "    ax=axs[1, 0]\n",
        ")\n",
        "axs[1, 0].set_title('Fault Distance vs Resistivity', fontsize=18, fontweight='bold')\n",
        "axs[1, 0].set_xlabel('Fault Distance (km)', fontsize=14, fontweight='bold')\n",
        "axs[1, 0].set_ylabel('Resistivity (ohm-m)', fontsize=14, fontweight='bold')\n",
        "axs[1, 0].set_yscale('log')  # Log scale for resistivity\n",
        "axs[1, 0].set_xlim(0, 40)\n",
        "axs[1, 0].grid(True, linestyle='--', alpha=0.7)\n",
        "\n",
        "# 4. Heat Flow vs Alteration (bottom right)\n",
        "sns.scatterplot(\n",
        "    data=plot_data,\n",
        "    x='heat_flow',\n",
        "    y='alteration',\n",
        "    hue='potential',\n",
        "    palette=colors,\n",
        "    s=100,\n",
        "    alpha=0.8,\n",
        "    edgecolor='w',\n",
        "    linewidth=0.5,\n",
        "    ax=axs[1, 1]\n",
        ")\n",
        "axs[1, 1].set_title('Heat Flow vs Alteration', fontsize=18, fontweight='bold')\n",
        "axs[1, 1].set_xlabel('Heat Flow (mW/m²)', fontsize=14, fontweight='bold')\n",
        "axs[1, 1].set_ylabel('Alteration Level', fontsize=14, fontweight='bold')\n",
        "axs[1, 1].set_yticks([0, 1, 2, 3])\n",
        "axs[1, 1].set_yticklabels(['None', 'Weak', 'Moderate', 'Strong'], fontsize=12)\n",
        "axs[1, 1].grid(True, linestyle='--', alpha=0.7)\n",
        "\n",
        "# Improve the legend\n",
        "handles, labels = axs[0, 0].get_legend_handles_labels()\n",
        "fig.legend(\n",
        "    handles,\n",
        "    labels,\n",
        "    title='Geothermal Potential',\n",
        "    loc='center right',\n",
        "    bbox_to_anchor=(1.15, 0.5),\n",
        "    fontsize=14,\n",
        "    title_fontsize=16,\n",
        "    frameon=True,\n",
        "    edgecolor='black',\n",
        "    markerscale=2\n",
        ")\n",
        "\n",
        "# Remove redundant legends\n",
        "for ax in axs.flat:\n",
        "    ax.get_legend().remove()\n",
        "\n",
        "# Add overall title\n",
        "fig.suptitle('Key Relationships for Geothermal Potential Assessment', fontsize=24, fontweight='bold', y=0.98)\n",
        "\n",
        "# Add explanatory text\n",
        "fig.text(\n",
        "    0.5, 0.01,\n",
        "    \"These four plots highlight the most critical relationships for geothermal potential assessment.\\n\"\n",
        "    \"Note how high potential sites (turquoise) tend to have high heat flow, low resistivity, and close proximity to faults.\",\n",
        "    ha='center',\n",
        "    fontsize=14,\n",
        "    bbox=dict(boxstyle=\"round,pad=0.5\", facecolor='white', alpha=0.8, edgecolor='gray')\n",
        ")\n",
        "\n",
        "# Adjust layout and save\n",
        "plt.tight_layout(rect=[0, 0.03, 0.9, 0.95])\n",
        "plt.savefig('key_geothermal_relationships.png', dpi=300, bbox_inches='tight')\n",
        "plt.show()"
      ],
      "metadata": {
        "id": "qLOvFmxpYKX4"
      },
      "execution_count": null,
      "outputs": []
    },
    {
      "cell_type": "code",
      "source": [
        "print(\"\\nAnalysis Complete!\")"
      ],
      "metadata": {
        "id": "HZBLLnQHGq4Y"
      },
      "execution_count": null,
      "outputs": []
    }
  ]
}