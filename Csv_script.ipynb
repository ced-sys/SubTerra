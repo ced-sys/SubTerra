{
  "nbformat": 4,
  "nbformat_minor": 0,
  "metadata": {
    "colab": {
      "provenance": [],
      "authorship_tag": "ABX9TyMhrDuVV31gfJKdOpJc3tDx",
      "include_colab_link": true
    },
    "kernelspec": {
      "name": "python3",
      "display_name": "Python 3"
    },
    "language_info": {
      "name": "python"
    }
  },
  "cells": [
    {
      "cell_type": "markdown",
      "metadata": {
        "id": "view-in-github",
        "colab_type": "text"
      },
      "source": [
        "<a href=\"https://colab.research.google.com/github/ced-sys/SubTerra/blob/main/Csv_script.ipynb\" target=\"_parent\"><img src=\"https://colab.research.google.com/assets/colab-badge.svg\" alt=\"Open In Colab\"/></a>"
      ]
    },
    {
      "cell_type": "code",
      "source": [
        "from google.colab import drive\n",
        "drive.mount('/content/drive')"
      ],
      "metadata": {
        "colab": {
          "base_uri": "https://localhost:8080/"
        },
        "id": "ROWBFFTOcmOX",
        "outputId": "429aba0a-d491-44a7-f01b-d71aac77c7a1"
      },
      "execution_count": 13,
      "outputs": [
        {
          "output_type": "stream",
          "name": "stdout",
          "text": [
            "Drive already mounted at /content/drive; to attempt to forcibly remount, call drive.mount(\"/content/drive\", force_remount=True).\n"
          ]
        }
      ]
    },
    {
      "cell_type": "code",
      "source": [
        "!pip install geopandas rasterio"
      ],
      "metadata": {
        "colab": {
          "base_uri": "https://localhost:8080/"
        },
        "id": "MenYINuBcvf6",
        "outputId": "79781d13-0a2c-4b3f-b3b2-e67e97475e9b"
      },
      "execution_count": 14,
      "outputs": [
        {
          "output_type": "stream",
          "name": "stdout",
          "text": [
            "Requirement already satisfied: geopandas in /usr/local/lib/python3.11/dist-packages (1.0.1)\n",
            "Requirement already satisfied: rasterio in /usr/local/lib/python3.11/dist-packages (1.4.3)\n",
            "Requirement already satisfied: numpy>=1.22 in /usr/local/lib/python3.11/dist-packages (from geopandas) (2.0.2)\n",
            "Requirement already satisfied: pyogrio>=0.7.2 in /usr/local/lib/python3.11/dist-packages (from geopandas) (0.11.0)\n",
            "Requirement already satisfied: packaging in /usr/local/lib/python3.11/dist-packages (from geopandas) (24.2)\n",
            "Requirement already satisfied: pandas>=1.4.0 in /usr/local/lib/python3.11/dist-packages (from geopandas) (2.2.2)\n",
            "Requirement already satisfied: pyproj>=3.3.0 in /usr/local/lib/python3.11/dist-packages (from geopandas) (3.7.1)\n",
            "Requirement already satisfied: shapely>=2.0.0 in /usr/local/lib/python3.11/dist-packages (from geopandas) (2.1.1)\n",
            "Requirement already satisfied: affine in /usr/local/lib/python3.11/dist-packages (from rasterio) (2.4.0)\n",
            "Requirement already satisfied: attrs in /usr/local/lib/python3.11/dist-packages (from rasterio) (25.3.0)\n",
            "Requirement already satisfied: certifi in /usr/local/lib/python3.11/dist-packages (from rasterio) (2025.4.26)\n",
            "Requirement already satisfied: click>=4.0 in /usr/local/lib/python3.11/dist-packages (from rasterio) (8.2.1)\n",
            "Requirement already satisfied: cligj>=0.5 in /usr/local/lib/python3.11/dist-packages (from rasterio) (0.7.2)\n",
            "Requirement already satisfied: click-plugins in /usr/local/lib/python3.11/dist-packages (from rasterio) (1.1.1)\n",
            "Requirement already satisfied: pyparsing in /usr/local/lib/python3.11/dist-packages (from rasterio) (3.2.3)\n",
            "Requirement already satisfied: python-dateutil>=2.8.2 in /usr/local/lib/python3.11/dist-packages (from pandas>=1.4.0->geopandas) (2.9.0.post0)\n",
            "Requirement already satisfied: pytz>=2020.1 in /usr/local/lib/python3.11/dist-packages (from pandas>=1.4.0->geopandas) (2025.2)\n",
            "Requirement already satisfied: tzdata>=2022.7 in /usr/local/lib/python3.11/dist-packages (from pandas>=1.4.0->geopandas) (2025.2)\n",
            "Requirement already satisfied: six>=1.5 in /usr/local/lib/python3.11/dist-packages (from python-dateutil>=2.8.2->pandas>=1.4.0->geopandas) (1.17.0)\n"
          ]
        }
      ]
    },
    {
      "cell_type": "code",
      "execution_count": 17,
      "metadata": {
        "id": "DK9nddHbciBE",
        "colab": {
          "base_uri": "https://localhost:8080/"
        },
        "outputId": "a44d34e4-c7fb-4b72-fef1-c05c5b91b032"
      },
      "outputs": [
        {
          "output_type": "stream",
          "name": "stdout",
          "text": [
            "✅ Done! Extracted features saved to: /content/drive/MyDrive/SubTerra/Data For ML/training_dataset.csv\n",
            "🧬 Rows: 360, Columns: 12 (features + label + geometry)\n"
          ]
        }
      ],
      "source": [
        "import geopandas as gpd\n",
        "import rasterio\n",
        "import pandas as pd\n",
        "import os\n",
        "\n",
        "# Load sample points\n",
        "pos_path = '/content/drive/MyDrive/SubTerra/Data For ML/positive_samples.geojson'\n",
        "neg_path = '/content/drive/MyDrive/SubTerra/Data For ML/negative_samples.geojson'\n",
        "\n",
        "points_pos = gpd.read_file(pos_path)\n",
        "points_neg = gpd.read_file(neg_path)\n",
        "\n",
        "# Reproject to a common CRS (EPSG:4326) before combining\n",
        "points_pos = points_pos.to_crs('EPSG:4326')\n",
        "points_neg = points_neg.to_crs('EPSG:4326')\n",
        "\n",
        "# Combine\n",
        "points_all = pd.concat([points_pos, points_neg], ignore_index=True)\n",
        "points_all = gpd.GeoDataFrame(points_all, geometry='geometry', crs='EPSG:4326')\n",
        "\n",
        "\n",
        "# Paths\n",
        "raster_dir = '/content/drive/MyDrive/SubTerra/aligned/'\n",
        "raster_paths = {\n",
        "    'dem': 'aligned_kenya_dem.tif',\n",
        "    'slope': 'aligned_slope.tif',\n",
        "    'tri': 'aligned_tri.tif',\n",
        "    'fault_dist': 'aligned_fault_distance.tif',\n",
        "    'ndvi': 'aligned_ndvi_2020.tif',\n",
        "    'lst': 'aligned_lst_2020.tif',\n",
        "    'landcover': 'aligned_land_cover_2020.tif',\n",
        "    'veg_peak': 'aligned_vegetation_peak.tif',\n",
        "    'lithology': 'aligned_kenya_lithology_clipped.tif',\n",
        "    'heat_flow': 'aligned_heat_flow_kenya.tif',\n",
        "}\n",
        "\n",
        "# Extract raster values\n",
        "coords = [(pt.x, pt.y) for pt in points_all.geometry]\n",
        "\n",
        "for key, file_name in raster_paths.items():\n",
        "    path = os.path.join(raster_dir, file_name)\n",
        "    with rasterio.open(path) as src:\n",
        "        # Ensure the raster and points have compatible CRSs for sampling\n",
        "        # Reproject points to raster CRS if necessary\n",
        "        if points_all.crs != src.crs:\n",
        "            points_reprojected = points_all.to_crs(src.crs)\n",
        "            coords_reprojected = [(pt.x, pt.y) for pt in points_reprojected.geometry]\n",
        "            values = [val[0] if val else None for val in src.sample(coords_reprojected)]\n",
        "        else:\n",
        "            values = [val[0] if val else None for val in src.sample(coords)]\n",
        "\n",
        "        points_all[key] = values\n",
        "\n",
        "\n",
        "\n",
        "# Export to CSV\n",
        "output_csv = '/content/drive/MyDrive/SubTerra/Data For ML/training_dataset.csv'\n",
        "points_all.to_csv(output_csv, index=False)\n",
        "\n",
        "print(f\"✅ Done! Extracted features saved to: {output_csv}\")\n",
        "print(f\"🧬 Rows: {len(points_all)}, Columns: {len(raster_paths) + 2} (features + label + geometry)\")"
      ]
    }
  ]
}